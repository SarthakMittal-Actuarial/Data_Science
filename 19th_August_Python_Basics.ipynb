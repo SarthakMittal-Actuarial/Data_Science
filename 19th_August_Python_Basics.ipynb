{
 "cells": [
  {
   "cell_type": "code",
   "execution_count": 41,
   "id": "c0ce49fb-5a41-4e62-8e3a-3a9c91f53d8a",
   "metadata": {},
   "outputs": [],
   "source": [
    "# Question 1"
   ]
  },
  {
   "cell_type": "code",
   "execution_count": 42,
   "id": "11f7a6dd-fa50-4498-b369-2b86ead9017a",
   "metadata": {},
   "outputs": [],
   "source": [
    "x=10"
   ]
  },
  {
   "cell_type": "code",
   "execution_count": 43,
   "id": "7c54bc7b-a61e-46bb-b6b7-12f2531d6b00",
   "metadata": {},
   "outputs": [
    {
     "data": {
      "text/plain": [
       "10"
      ]
     },
     "execution_count": 43,
     "metadata": {},
     "output_type": "execute_result"
    }
   ],
   "source": [
    "x"
   ]
  },
  {
   "cell_type": "code",
   "execution_count": 44,
   "id": "af588a1f-e7d0-4d57-a8fa-1f73c5f25996",
   "metadata": {},
   "outputs": [],
   "source": [
    "y=20"
   ]
  },
  {
   "cell_type": "code",
   "execution_count": 45,
   "id": "4d87bd9e-c11c-4407-b91e-baed8c5e8bbb",
   "metadata": {},
   "outputs": [
    {
     "data": {
      "text/plain": [
       "20"
      ]
     },
     "execution_count": 45,
     "metadata": {},
     "output_type": "execute_result"
    }
   ],
   "source": [
    "y"
   ]
  },
  {
   "cell_type": "code",
   "execution_count": 46,
   "id": "8a67438f-cd61-431a-a717-f080766696ff",
   "metadata": {},
   "outputs": [],
   "source": [
    "x=20"
   ]
  },
  {
   "cell_type": "code",
   "execution_count": 47,
   "id": "07b82a46-ba92-408f-afe7-f950407746c4",
   "metadata": {},
   "outputs": [],
   "source": [
    "y=10"
   ]
  },
  {
   "cell_type": "code",
   "execution_count": 48,
   "id": "b732aa38-12be-4659-82eb-affc1b06e6fb",
   "metadata": {},
   "outputs": [
    {
     "data": {
      "text/plain": [
       "(20, 10)"
      ]
     },
     "execution_count": 48,
     "metadata": {},
     "output_type": "execute_result"
    }
   ],
   "source": [
    "x,y"
   ]
  },
  {
   "cell_type": "code",
   "execution_count": 49,
   "id": "7482c8ae-46c1-44f3-b064-88d8cd3b4709",
   "metadata": {},
   "outputs": [],
   "source": [
    "#First x was 10, y was 20, value are just replaced by defining it again"
   ]
  },
  {
   "cell_type": "code",
   "execution_count": 50,
   "id": "c3419652-3cfe-4592-ba48-e0a329c31cf7",
   "metadata": {},
   "outputs": [],
   "source": [
    "x = 5\n",
    "y = 10\n",
    "\n",
    "x, y = y, x"
   ]
  },
  {
   "cell_type": "code",
   "execution_count": 51,
   "id": "28c173fe-2bb1-4e51-8630-ad799aa7cb96",
   "metadata": {},
   "outputs": [
    {
     "data": {
      "text/plain": [
       "(10, 5)"
      ]
     },
     "execution_count": 51,
     "metadata": {},
     "output_type": "execute_result"
    }
   ],
   "source": [
    "x,y"
   ]
  },
  {
   "cell_type": "code",
   "execution_count": 52,
   "id": "9746ba73-ee50-41e2-97bc-651447835c3f",
   "metadata": {},
   "outputs": [],
   "source": [
    "#or this approach can be used"
   ]
  },
  {
   "cell_type": "code",
   "execution_count": 53,
   "id": "83d4ae68-3a38-43ba-875f-72b0919d2739",
   "metadata": {},
   "outputs": [],
   "source": [
    "#Question 2"
   ]
  },
  {
   "cell_type": "code",
   "execution_count": 55,
   "id": "34847189-f33c-4cc1-bbcd-b9c86ebc9ac4",
   "metadata": {},
   "outputs": [
    {
     "name": "stdin",
     "output_type": "stream",
     "text": [
      " 5\n",
      " 6\n"
     ]
    }
   ],
   "source": [
    "length = int(input())\n",
    "width = int(input())"
   ]
  },
  {
   "cell_type": "code",
   "execution_count": 56,
   "id": "c48069d4-d67a-4ea8-bc81-c034033f39bd",
   "metadata": {},
   "outputs": [],
   "source": [
    "area = length * width"
   ]
  },
  {
   "cell_type": "code",
   "execution_count": 57,
   "id": "96bfe2d6-44d9-4f95-85bd-c1a2dc5c1a4e",
   "metadata": {},
   "outputs": [
    {
     "data": {
      "text/plain": [
       "30"
      ]
     },
     "execution_count": 57,
     "metadata": {},
     "output_type": "execute_result"
    }
   ],
   "source": [
    "area"
   ]
  },
  {
   "cell_type": "code",
   "execution_count": 58,
   "id": "9404b372-20a8-4a5d-8893-57d2f7ede669",
   "metadata": {},
   "outputs": [],
   "source": [
    "#Question 3"
   ]
  },
  {
   "cell_type": "code",
   "execution_count": 59,
   "id": "aa426815-c952-43b6-8e6a-aef662422036",
   "metadata": {},
   "outputs": [
    {
     "name": "stdin",
     "output_type": "stream",
     "text": [
      " 5\n"
     ]
    }
   ],
   "source": [
    "celcius_temp = int(input())"
   ]
  },
  {
   "cell_type": "code",
   "execution_count": 60,
   "id": "4b4cd279-3177-41d5-90d7-c56ceb8fded5",
   "metadata": {},
   "outputs": [],
   "source": [
    "fahren_temp = (celcius_temp*9/5) +32"
   ]
  },
  {
   "cell_type": "code",
   "execution_count": 61,
   "id": "7424cc5d-0a99-4fa1-b0f6-afc5f078b57b",
   "metadata": {},
   "outputs": [
    {
     "data": {
      "text/plain": [
       "41.0"
      ]
     },
     "execution_count": 61,
     "metadata": {},
     "output_type": "execute_result"
    }
   ],
   "source": [
    "fahren_temp"
   ]
  },
  {
   "cell_type": "code",
   "execution_count": 62,
   "id": "e89df3f6-fe13-4b63-805c-003f96a46e5e",
   "metadata": {},
   "outputs": [],
   "source": [
    "#Basic string Questions"
   ]
  },
  {
   "cell_type": "code",
   "execution_count": 70,
   "id": "61b6e6ba-bf02-4f9c-b20d-84fd899b132f",
   "metadata": {},
   "outputs": [],
   "source": [
    "#1"
   ]
  },
  {
   "cell_type": "code",
   "execution_count": 71,
   "id": "d9bd6cf2-448e-4e02-9dc2-c2bbd6a87ad7",
   "metadata": {},
   "outputs": [
    {
     "name": "stdin",
     "output_type": "stream",
     "text": [
      " hkhkhk\n"
     ]
    }
   ],
   "source": [
    "length_of_input = str(input())"
   ]
  },
  {
   "cell_type": "code",
   "execution_count": 72,
   "id": "80aa310a-52a6-488e-97bc-6e7039ad03c1",
   "metadata": {},
   "outputs": [
    {
     "data": {
      "text/plain": [
       "6"
      ]
     },
     "execution_count": 72,
     "metadata": {},
     "output_type": "execute_result"
    }
   ],
   "source": [
    "len(length_of_input)"
   ]
  },
  {
   "cell_type": "code",
   "execution_count": 73,
   "id": "7e635c6e-810a-4bbf-ba68-5181e3b975ff",
   "metadata": {},
   "outputs": [],
   "source": [
    "#2. I am not able to think it through and i think this was not taught in class basic python as well."
   ]
  },
  {
   "cell_type": "code",
   "execution_count": 74,
   "id": "644f3bd0-909b-4660-a07d-fcf3394bfb28",
   "metadata": {},
   "outputs": [],
   "source": [
    "#3"
   ]
  },
  {
   "cell_type": "code",
   "execution_count": 75,
   "id": "2ddcd394-8c71-4b52-8586-cc4e39d72e7c",
   "metadata": {},
   "outputs": [],
   "source": [
    "string = \"PWSKILLS\""
   ]
  },
  {
   "cell_type": "code",
   "execution_count": 76,
   "id": "b682c2d8-122d-451d-8f8a-a3bb7e67fceb",
   "metadata": {},
   "outputs": [
    {
     "data": {
      "text/plain": [
       "'SLLIKSWP'"
      ]
     },
     "execution_count": 76,
     "metadata": {},
     "output_type": "execute_result"
    }
   ],
   "source": [
    "string[::-1]"
   ]
  },
  {
   "cell_type": "code",
   "execution_count": 77,
   "id": "385c59a5-d09b-49cb-a6b5-11bdc441f8e0",
   "metadata": {},
   "outputs": [],
   "source": [
    "#4"
   ]
  },
  {
   "cell_type": "code",
   "execution_count": 79,
   "id": "061c0637-fab7-4d12-af87-77f4bd71123d",
   "metadata": {},
   "outputs": [
    {
     "name": "stdin",
     "output_type": "stream",
     "text": [
      " abcba\n"
     ]
    }
   ],
   "source": [
    "check_if_palindrome = str(input())"
   ]
  },
  {
   "cell_type": "code",
   "execution_count": 80,
   "id": "70f7aca1-fde5-445a-85bf-4d34433331bb",
   "metadata": {},
   "outputs": [
    {
     "data": {
      "text/plain": [
       "'abcba'"
      ]
     },
     "execution_count": 80,
     "metadata": {},
     "output_type": "execute_result"
    }
   ],
   "source": [
    "check_if_palindrome[::-1]"
   ]
  },
  {
   "cell_type": "code",
   "execution_count": 81,
   "id": "44d8aa91-6658-40df-8366-feec0e8c08f3",
   "metadata": {},
   "outputs": [],
   "source": [
    "#it gave the same answer so it's palindrome"
   ]
  },
  {
   "cell_type": "code",
   "execution_count": 82,
   "id": "1712325a-38f2-4cb2-a893-6b99bff58a8c",
   "metadata": {},
   "outputs": [],
   "source": [
    "#5"
   ]
  },
  {
   "cell_type": "code",
   "execution_count": 83,
   "id": "9b630c39-436d-4330-b77d-2288a21160b1",
   "metadata": {},
   "outputs": [
    {
     "name": "stdin",
     "output_type": "stream",
     "text": [
      " Trying to remove spaces\n"
     ]
    }
   ],
   "source": [
    "remove_spaces = str(input())"
   ]
  },
  {
   "cell_type": "code",
   "execution_count": 84,
   "id": "4cd4070c-e73f-44b6-9f44-417f0bc49efb",
   "metadata": {},
   "outputs": [
    {
     "data": {
      "text/plain": [
       "'Tryingtoremovespaces'"
      ]
     },
     "execution_count": 84,
     "metadata": {},
     "output_type": "execute_result"
    }
   ],
   "source": [
    "remove_spaces.replace(\" \",\"\")"
   ]
  },
  {
   "cell_type": "code",
   "execution_count": null,
   "id": "7915ad88-1339-4ae3-893e-500dc7b90944",
   "metadata": {},
   "outputs": [],
   "source": []
  }
 ],
 "metadata": {
  "kernelspec": {
   "display_name": "Python 3 (ipykernel)",
   "language": "python",
   "name": "python3"
  },
  "language_info": {
   "codemirror_mode": {
    "name": "ipython",
    "version": 3
   },
   "file_extension": ".py",
   "mimetype": "text/x-python",
   "name": "python",
   "nbconvert_exporter": "python",
   "pygments_lexer": "ipython3",
   "version": "3.10.8"
  }
 },
 "nbformat": 4,
 "nbformat_minor": 5
}
